{
 "cells": [
  {
   "cell_type": "code",
   "execution_count": 2,
   "metadata": {},
   "outputs": [
    {
     "name": "stderr",
     "output_type": "stream",
     "text": [
      "C:\\Users\\dmuri\\AppData\\Local\\Temp\\ipykernel_11016\\2162656668.py:1: DeprecationWarning: \n",
      "Pyarrow will become a required dependency of pandas in the next major release of pandas (pandas 3.0),\n",
      "(to allow more performant data types, such as the Arrow string type, and better interoperability with other libraries)\n",
      "but was not found to be installed on your system.\n",
      "If this would cause problems for you,\n",
      "please provide us feedback at https://github.com/pandas-dev/pandas/issues/54466\n",
      "        \n",
      "  import pandas as pd\n"
     ]
    }
   ],
   "source": [
    "import pandas as pd\n",
    "import numpy as np"
   ]
  },
  {
   "cell_type": "code",
   "execution_count": 6,
   "metadata": {},
   "outputs": [],
   "source": [
    "def get_data():\n",
    "\n",
    "    df = pd.DataFrame()\n",
    "    size = 1_000_000\n",
    "\n",
    "    df['age'] = np.random.randint(0,100, size)\n",
    "    df['read_books'] = np.random.randint(0,100,size)\n",
    "    df['favourite_pizza'] = np.random.choice(['Pepperoni','Margherita','Diablo','Neapolitan'],size)\n",
    "    df['do_sport'] = np.random.choice([True,False],size)\n",
    "    df['city_born'] = np.random.choice(['Kyiv','Ternopil','Lviv','New-York'],size)\n",
    "    df['year_of_birth'] = np.random.randint(1950,2010,size)\n",
    "\n",
    "    return df"
   ]
  },
  {
   "cell_type": "markdown",
   "metadata": {},
   "source": [
    "## CSV\n",
    "- MB\n",
    "- 2.5s to write\n",
    "- 0.7s to read  "
   ]
  },
  {
   "cell_type": "code",
   "execution_count": 15,
   "metadata": {},
   "outputs": [
    {
     "name": "stdout",
     "output_type": "stream",
     "text": [
      "1.93 s ± 165 ms per loop (mean ± std. dev. of 7 runs, 1 loop each)\n",
      "580 ms ± 7.46 ms per loop (mean ± std. dev. of 7 runs, 1 loop each)\n"
     ]
    },
    {
     "name": "stderr",
     "output_type": "stream",
     "text": [
      "'ls' is not recognized as an internal or external command,\n",
      "operable program or batch file.\n"
     ]
    }
   ],
   "source": [
    "df = get_data()\n",
    "\n",
    "%timeit df.to_csv('test_csv.csv',index=False)\n",
    "%timeit df = pd.read_csv('test_csv.csv',index_col=[0])\n",
    "\n",
    "!ls"
   ]
  },
  {
   "cell_type": "markdown",
   "metadata": {},
   "source": [
    "## Pickle\n",
    "- MB\n",
    "- 6.8s to write\n",
    "- 0.3s to read  "
   ]
  },
  {
   "cell_type": "code",
   "execution_count": 19,
   "metadata": {},
   "outputs": [
    {
     "name": "stdout",
     "output_type": "stream",
     "text": [
      "672 ms ± 13.4 ms per loop (mean ± std. dev. of 7 runs, 1 loop each)\n",
      "261 ms ± 4.73 ms per loop (mean ± std. dev. of 7 runs, 1 loop each)\n"
     ]
    }
   ],
   "source": [
    "df = get_data()\n",
    "\n",
    "%timeit df.to_pickle('test_pickle.pickle')\n",
    "%timeit df = pd.read_pickle('test_pickle.pickle')\n",
    "\n",
    "#!ls"
   ]
  },
  {
   "cell_type": "markdown",
   "metadata": {},
   "source": [
    "## Parquet\n",
    "\n",
    "`!pip install pyarrow`\n",
    "`!pip install fastparquet`\n",
    "\n",
    "\n",
    "- MB\n",
    "- 6.8s to write\n",
    "- 0.2s to read  "
   ]
  },
  {
   "cell_type": "code",
   "execution_count": 22,
   "metadata": {},
   "outputs": [
    {
     "name": "stdout",
     "output_type": "stream",
     "text": [
      "538 ms ± 182 ms per loop (mean ± std. dev. of 7 runs, 1 loop each)\n",
      "156 ms ± 17.7 ms per loop (mean ± std. dev. of 7 runs, 1 loop each)\n"
     ]
    }
   ],
   "source": [
    "df = get_data()\n",
    "\n",
    "%timeit df.to_parquet('test_parquet.parquet')\n",
    "%timeit df = pd.read_parquet('test_parquet.parquet')\n",
    "\n",
    "#!ls"
   ]
  }
 ],
 "metadata": {
  "kernelspec": {
   "display_name": "Python 3",
   "language": "python",
   "name": "python3"
  },
  "language_info": {
   "codemirror_mode": {
    "name": "ipython",
    "version": 3
   },
   "file_extension": ".py",
   "mimetype": "text/x-python",
   "name": "python",
   "nbconvert_exporter": "python",
   "pygments_lexer": "ipython3",
   "version": "3.11.8"
  }
 },
 "nbformat": 4,
 "nbformat_minor": 2
}
